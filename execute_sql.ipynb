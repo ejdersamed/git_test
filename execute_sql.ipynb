{
 "cells": [
  {
   "cell_type": "code",
   "execution_count": 21,
   "id": "0f5c1d4c",
   "metadata": {},
   "outputs": [],
   "source": [
    "import psycopg2\n",
    "import os\n",
    "import pandas as pd"
   ]
  },
  {
   "cell_type": "code",
   "execution_count": 22,
   "id": "897de867",
   "metadata": {},
   "outputs": [],
   "source": [
    "db_config = {\n",
    "    \"dbname\": os.getenv(\"DB_NAME\", \"my_test_db\"),\n",
    "    \"user\": os.getenv(\"DB_USER\", \"hamza\"),\n",
    "    \"password\": os.getenv(\"DB_PASSWORD\", \"emin\"),\n",
    "    \"host\": os.getenv(\"DB_HOST\", \"10.150.96.44\"),\n",
    "    \"port\": os.getenv(\"DB_PORT\", \"5432\")\n",
    "}"
   ]
  },
  {
   "cell_type": "code",
   "execution_count": 23,
   "id": "00154970",
   "metadata": {},
   "outputs": [],
   "source": [
    "def execute_sql(dbconfig, sql):\n",
    "    try:\n",
    "        with psycopg2.connect(\n",
    "            dbname=dbconfig[\"dbname\"],\n",
    "            user=dbconfig[\"user\"],\n",
    "            password=dbconfig[\"password\"],\n",
    "            host=dbconfig[\"host\"],\n",
    "            port=dbconfig[\"port\"]\n",
    "        ) as conn:\n",
    "            with conn.cursor() as cursor:\n",
    "                cursor.execute(sql)\n",
    "                results = cursor.fetchall()\n",
    "                colnames = [desc[0] for desc in cursor.description]\n",
    "                results_df = pd.DataFrame(results, columns=colnames)\n",
    "        return results_df\n",
    "    except Exception as e:\n",
    "        return f\"hata yaşandı {e}\""
   ]
  },
  {
   "cell_type": "code",
   "execution_count": 24,
   "id": "00152a7b",
   "metadata": {},
   "outputs": [
    {
     "data": {
      "text/plain": [
       "'hata yaşandı column \"gbmaddetarihi\" does not exist\\nLINE 5:   AND gbmaddetarihi >= \\'2024-03-01\\'  \\n              ^\\n'"
      ]
     },
     "execution_count": 24,
     "metadata": {},
     "output_type": "execute_result"
    }
   ],
   "source": [
    "sql = \"\"\"\n",
    "SELECT yetkinlik_grup, AVG(CAST(puan AS FLOAT)) AS ortalama_puan  \n",
    "FROM data_360  \n",
    "WHERE gorev_grubu_tanimi = 'yönetici'  \n",
    "  AND gbmaddetarihi >= '2024-03-01'  \n",
    "  AND gbmaddetarihi < '2024-04-01'  \n",
    "  AND puan IS NOT NULL  \n",
    "GROUP BY yetkinlik_grup  \n",
    "ORDER BY ortalama_puan ASC;\n",
    "\"\"\" \n",
    "execute_sql(db_config, sql)\n",
    "\n"
   ]
  },
  {
   "cell_type": "code",
   "execution_count": 43,
   "id": "59e81c05",
   "metadata": {},
   "outputs": [
    {
     "data": {
      "text/plain": [
       "'hata yaşandı relation \"personel_info\" does not exist\\nLINE 2: SELECT kişiler FROM personel_info\\n                            ^\\n'"
      ]
     },
     "execution_count": 43,
     "metadata": {},
     "output_type": "execute_result"
    }
   ],
   "source": [
    "sql = \"\"\"\n",
    "SELECT kişiler FROM personel_info\n",
    " \"\"\" \n",
    "\n",
    "execute_sql(db_config, sql)"
   ]
  },
  {
   "cell_type": "code",
   "execution_count": null,
   "id": "2579e800",
   "metadata": {},
   "outputs": [],
   "source": []
  }
 ],
 "metadata": {
  "kernelspec": {
   "display_name": ".venv",
   "language": "python",
   "name": "python3"
  },
  "language_info": {
   "codemirror_mode": {
    "name": "ipython",
    "version": 3
   },
   "file_extension": ".py",
   "mimetype": "text/x-python",
   "name": "python",
   "nbconvert_exporter": "python",
   "pygments_lexer": "ipython3",
   "version": "3.10.12"
  }
 },
 "nbformat": 4,
 "nbformat_minor": 5
}
